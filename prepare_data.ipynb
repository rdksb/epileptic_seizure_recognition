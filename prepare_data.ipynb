{
 "cells": [
  {
   "cell_type": "code",
   "execution_count": null,
   "id": "d0f08782",
   "metadata": {
    "id": "d0f08782"
   },
   "outputs": [],
   "source": [
    "import tensorflow as tf\n",
    "import pandas as pd\n",
    "import imblearn\n",
    "from sklearn.model_selection import train_test_split\n",
    "from sklearn.preprocessing import StandardScaler"
   ]
  },
  {
   "cell_type": "markdown",
   "id": "b54bbbda",
   "metadata": {
    "id": "b54bbbda"
   },
   "source": [
    "### Load and prepare data for modeling purpose\n",
    "\n"
   ]
  },
  {
   "cell_type": "code",
   "execution_count": 1,
   "id": "fc7d6f85",
   "metadata": {
    "id": "fc7d6f85"
   },
   "outputs": [],
   "source": [
    "def load_balance_data():\n",
    "    \"\"\"load data and solve class imbalance\"\"\"\n",
    "    data = pd.read_csv('Epileptic Seizure Recognition.csv')\n",
    "    data = data.drop('Unnamed: 0', axis=1)\n",
    "\n",
    "    # change the labels to binary labels (seizure y=1, non-seizure y=0)\n",
    "    data['y'] = data['y'].replace([2,3,4,5], 0)\n",
    "\n",
    "    # Solve class imbalance using random oversampling strategy\n",
    "    oversampling = imblearn.over_sampling.RandomOverSampler(sampling_strategy='minority')\n",
    "    X, y = oversampling.fit_resample(data.drop('y', axis=1), data['y'])\n",
    "\n",
    "    return X, y"
   ]
  },
  {
   "cell_type": "code",
   "execution_count": 2,
   "id": "TAMshdf34DXi",
   "metadata": {
    "id": "TAMshdf34DXi"
   },
   "outputs": [],
   "source": [
    "def input_data(val=True):\n",
    "    \"\"\"load, split and scale data\"\"\"\n",
    "    X, y = load_balance_data()\n",
    "\n",
    "    # split the dataset into train, validation, and test sets\n",
    "    X_train, X_test, y_train, y_test = train_test_split(X, y,\n",
    "                                                        test_size=.1,\n",
    "                                                        shuffle=True)\n",
    "    if val:\n",
    "        X_train, X_val, y_train, y_val = train_test_split(X_train, y_train,\n",
    "                                                          test_size=.1,\n",
    "                                                          shuffle=True)\n",
    "\n",
    "    # centering and scaling features\n",
    "    scale = StandardScaler()\n",
    "    X_train = scale.fit_transform(X_train)\n",
    "    X_test = scale.transform(X_test)\n",
    "    if val:\n",
    "        X_val = scale.transform(X_val)\n",
    "        return X_train, X_val, X_test, y_train, y_val, y_test\n",
    "    else:\n",
    "        return X_train, X_test, y_train, y_test"
   ]
  },
  {
   "cell_type": "code",
   "execution_count": 1,
   "id": "BiCzh-DwicBt",
   "metadata": {
    "id": "BiCzh-DwicBt"
   },
   "outputs": [],
   "source": [
    "def convert_to_dataset(X, y, batch_size=32, shuffle=True):\n",
    "    ds = tf.data.Dataset.from_tensor_slices((X, y))\n",
    "    if shuffle:\n",
    "        ds = ds.shuffle(buffer_size=len(y))\n",
    "    ds = ds.batch(batch_size)\n",
    "    ds = ds.prefetch(tf.data.experimental.AUTOTUNE)\n",
    "    return ds"
   ]
  },
  {
   "cell_type": "code",
   "execution_count": null,
   "id": "R0tXLslItvxT",
   "metadata": {
    "id": "R0tXLslItvxT"
   },
   "outputs": [],
   "source": []
  }
 ],
 "metadata": {
  "colab": {
   "provenance": []
  },
  "kernelspec": {
   "display_name": "Python 3 (ipykernel)",
   "language": "python",
   "name": "python3"
  },
  "language_info": {
   "codemirror_mode": {
    "name": "ipython",
    "version": 3
   },
   "file_extension": ".py",
   "mimetype": "text/x-python",
   "name": "python",
   "nbconvert_exporter": "python",
   "pygments_lexer": "ipython3",
   "version": "3.8.10"
  }
 },
 "nbformat": 4,
 "nbformat_minor": 5
}
